{
  "nbformat": 4,
  "nbformat_minor": 0,
  "metadata": {
    "colab": {
      "provenance": []
    },
    "kernelspec": {
      "name": "python3",
      "display_name": "Python 3"
    },
    "language_info": {
      "name": "python"
    }
  },
  "cells": [
    {
      "cell_type": "code",
      "source": [
        "class OreMaterial: #Исходная руда\n",
        "    def __init__(self, volume: int, fraction: float, pollution: float):\n",
        "        self.volume = volume #Сколько будет батчей\n",
        "        self.fraction = fraction #Исходный размер до дробления\n",
        "        self.pollution = pollution\n",
        "\n",
        "    def crush_material(self, reduction: float):\n",
        "\n",
        "      #reduction отвечает за то,насколько уменьшается фракция руды\n",
        "\n",
        "      #создаём список руды после дробления\n",
        "\n",
        "        return [OreBatch(batch_id=i+1, frac=self.fraction - reduction, poll=self.pollution)\n",
        "                for i in range(self.volume)]\n",
        "\n",
        "class ChemicalMixture: #Общий класс растворов\n",
        "    def __init__(self, name: str, concentration: float, purity: float):\n",
        "        self.name = name\n",
        "        self.concentration = concentration\n",
        "        self.purity = purity\n",
        "\n",
        "class CyanideMix(ChemicalMixture):\n",
        "    def __init__(self, conc: float, pur: float):\n",
        "        super().__init__(name=\"NaCN\", concentration=conc, purity=pur)\n",
        "\n",
        "class IronCatalyst(ChemicalMixture):\n",
        "    def __init__(self, conc: float, pur: float):\n",
        "        super().__init__(name=\"Fe(SO4)3\", concentration=conc, purity=pur)\n",
        "\n",
        "\n",
        "class OreBatch: #Описывает конкретную партию руды после дробления\n",
        "    def __init__(self, batch_id: int, frac: float, poll: float):\n",
        "        self.batch_id = batch_id\n",
        "        self.fraction = frac\n",
        "        self.pollution = poll\n",
        "        self.additional_contamination = 0.0\n",
        "        self.used_filter = None\n",
        "\n",
        "    def apply_cyanide_process(self, cyanide: CyanideMix, catalyst: IronCatalyst):\n",
        "        pollution_increase = (cyanide.concentration)* (1 - cyanide.purity)\n",
        "        pollution_increase += (catalyst.concentration) * (1 - catalyst.purity)\n",
        "        self.additional_contamination += pollution_increase\n",
        "\n",
        "    def pass_through_filter(self, filter_obj):\n",
        "        filter_obj.process_ore(self)\n",
        "        self.used_filter = (filter_obj.filter_type, filter_obj.brand)\n",
        "\n",
        "class ProcessingFilter:\n",
        "\n",
        "    def __init__(self, filter_type: str, brand: str):\n",
        "        self.filter_type = filter_type  # \"A\" или \"B\"\n",
        "        self.brand = brand\n",
        "        self.wear_level = 0.0\n",
        "\n",
        "\n",
        "    def process_ore(self, batch: OreBatch):\n",
        "        if self.filter_type == \"A\":\n",
        "            batch.additional_contamination -= 2.0 # уменьшение загрязненности выбрано произвольно\n",
        "            self.wear_level += 0.1\n",
        "            extra_pollution = 0.1 if self.brand != \"CheapBrand\" else 0.3 # Добавил такое деление для фильтров типа А\n",
        "        else:  # Тип B\n",
        "            batch.additional_contamination -= 1.5 # уменьшение загрязненности выбрано произвольно\n",
        "            self.wear_level += 0.2\n",
        "            extra_pollution = 0.2 if self.brand != \"CheapBrand\" else 0.5 # Пусть фильтры типа B хуже и их не умеют подделывать)\n",
        "        batch.additional_contamination += extra_pollution  # Дополнительная загрязнённость от фильтра\n",
        "\n",
        "        if self.wear_level >= 0.8:\n",
        "            print(f\"⚠️ Фильтр {self.brand} (тип {self.filter_type}) изношен на {self.wear_level * 100:.0f}%. Срочно замените!\")\n",
        "\n",
        "\n",
        "\n"
      ],
      "metadata": {
        "id": "qH_EDZWT35kG"
      },
      "execution_count": 7,
      "outputs": []
    }
  ]
}