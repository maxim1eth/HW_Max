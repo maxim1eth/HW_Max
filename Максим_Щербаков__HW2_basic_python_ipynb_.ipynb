{
  "nbformat": 4,
  "nbformat_minor": 0,
  "metadata": {
    "colab": {
      "provenance": []
    },
    "kernelspec": {
      "name": "python3",
      "display_name": "Python 3"
    },
    "language_info": {
      "name": "python"
    }
  },
  "cells": [
    {
      "cell_type": "markdown",
      "source": [
        "## 1. Подсчет количества дней\n",
        "\n",
        "Создай целочисленные переменные, которые отвечают за:\n",
        "- количество дней для проращивания семян\n",
        "- количество дней для выращивания рассады\n",
        "- количество дней до плодоношения\n",
        "\n",
        "Сложи все три переменные. Выведи на экран результат - число дней от момента начала проращивания семян до момента, когда созреют помидоры."
      ],
      "metadata": {
        "id": "xPCW0t6jIduY"
      }
    },
    {
      "cell_type": "code",
      "execution_count": null,
      "metadata": {
        "id": "O6sEcKdFIMZb",
        "colab": {
          "base_uri": "https://localhost:8080/"
        },
        "outputId": "b639d9cd-2967-4214-a999-24cdc23b619d"
      },
      "outputs": [
        {
          "output_type": "stream",
          "name": "stdout",
          "text": [
            "1\n",
            "2\n",
            "3\n",
            "6\n"
          ]
        }
      ],
      "source": [
        "days_proraschivaniye = int(input())\n",
        "days_for_rassada = int(input())\n",
        "days_till_plod = int(input())\n",
        "\n",
        "sum = days_proraschivaniye + days_for_rassada + days_till_plod\n",
        "print(sum)"
      ]
    },
    {
      "cell_type": "markdown",
      "source": [
        "## 2. Сохранение данных о сорте.\n",
        "\n",
        "Продуктивность сорта считается по простой формуле - [количество кг, собранных со всех кустов] / [количество кустов]\n",
        "\n",
        "Считай с клавиатуры количество килограмм, собранных со всех кустов и количество кустов (целые числа). Подели и округли до 2 знаков после запятой, результат выведи на экран."
      ],
      "metadata": {
        "id": "ZmLLCikNIAdT"
      }
    },
    {
      "cell_type": "code",
      "execution_count": null,
      "metadata": {
        "id": "IWNzBK6AIouo",
        "colab": {
          "base_uri": "https://localhost:8080/"
        },
        "outputId": "aeafac01-b81f-4350-abc1-ea492d87c847"
      },
      "outputs": [
        {
          "output_type": "stream",
          "name": "stdout",
          "text": [
            "2\n",
            "5\n",
            "0.4\n"
          ]
        }
      ],
      "source": [
        "kg = float(input())\n",
        "kusty = float(input())\n",
        "print(round(kg / kusty, 2))\n"
      ]
    },
    {
      "cell_type": "markdown",
      "source": [
        "## 3. Средняя сладость клубники.\n",
        "\n",
        "Ваша бабушка решила поспорить с соседкой, у кого клубника более сладкая. Они посадили кусты и потом оценили сладость клубники, собранной с каждого из кустов, по шкале от 0 до 10. Ваша задача - посчитать среднее для двух массивов и определить, у кого слаще клубника в среднем."
      ],
      "metadata": {
        "id": "O9dAr1NdJpyT"
      }
    },
    {
      "cell_type": "code",
      "execution_count": null,
      "metadata": {
        "id": "oy8HPWpiIpOv",
        "colab": {
          "base_uri": "https://localhost:8080/"
        },
        "outputId": "71f413e7-be65-4b28-dd75-ac9d322cd3e6"
      },
      "outputs": [
        {
          "output_type": "stream",
          "name": "stdout",
          "text": [
            "победа бабули\n"
          ]
        }
      ],
      "source": [
        "grandma_strawberries = [5, 7, 10, 9, 3, 10]\n",
        "sosedka_strawberries = [10, 6, 2, 3]\n",
        "a = 0\n",
        "b = 0\n",
        "for i in range(0,len(grandma_strawberries)):\n",
        "  a+=grandma_strawberries[i]\n",
        "for i in range(len(sosedka_strawberries)):\n",
        "  b+=sosedka_strawberries[i]\n",
        "babushka = a/len(grandma_strawberries)\n",
        "sosedka = b/len(sosedka_strawberries)\n",
        "if babushka>sosedka:\n",
        "  print(\"победа бабули\")\n",
        "elif babushka<sosedka:\n",
        "  print(\"результат: победа соседки\")\n",
        "else:\n",
        "  print(\"ничья\")"
      ]
    },
    {
      "cell_type": "markdown",
      "source": [
        "## 4. Список растений на даче.\n",
        "\n",
        "У вас есть список растений на даче у бабушки. <font color=\"#8000FF\"> При помощи форматирования строк </font> выведите список растений **в алфавитном порядке** в виде:\n",
        "\n",
        "N. Название растения."
      ],
      "metadata": {
        "id": "EYjJBGLsRC4y"
      }
    },
    {
      "cell_type": "code",
      "execution_count": null,
      "metadata": {
        "id": "z2_PuewtIpWs",
        "colab": {
          "base_uri": "https://localhost:8080/"
        },
        "outputId": "4b4706d8-7c9a-42d5-ece4-b366f9026799"
      },
      "outputs": [
        {
          "output_type": "stream",
          "name": "stdout",
          "text": [
            "1. картошка\n",
            "2. клубника\n",
            "3. мальва\n",
            "4. огурцы\n",
            "5. подсолнухи\n",
            "6. томаты\n",
            "7. флоксы\n",
            "8. хосты\n"
          ]
        }
      ],
      "source": [
        "plants = [\"мальва\", \"клубника\", \"томаты\", \"огурцы\", \"флоксы\", \"картошка\", \"подсолнухи\", \"хосты\"]\n",
        "plants.sort()\n",
        "for i, plant in enumerate(plants, start=1):\n",
        "    print(f\"{i}. {plant}\")\n",
        "\n"
      ]
    },
    {
      "cell_type": "markdown",
      "source": [
        "## 5. Погода на улице.\n",
        "\n",
        "Сейчас весна, у вашей бабушки уже высажена рассада перцев в парник. Однако она боится заморозков. Ваша задача - считать с клавиатуры значение температуры:\n",
        "\n",
        "Если t<5, надо вывести \"Пожалуйста, закрой полностью парник - на улице холодно\";\n",
        "\n",
        "Если t от 5 до 10, надо вывести \"Пожалуйста, прикрой парник - на улице прохладно\";\n",
        "\n",
        "Если t больше 10, надо вывести \"Пожалуйста, открой полностью парник - на улице тепло\"."
      ],
      "metadata": {
        "id": "amXMFPIxKq7s"
      }
    },
    {
      "cell_type": "code",
      "execution_count": null,
      "metadata": {
        "id": "F9Xwk-ldIpeY",
        "colab": {
          "base_uri": "https://localhost:8080/"
        },
        "outputId": "bebabc5c-ac62-4c9a-e098-53f7e8023713"
      },
      "outputs": [
        {
          "output_type": "stream",
          "name": "stdout",
          "text": [
            "52\n",
            "Пожалуйста, открой полностью парник - на улице тепло\n"
          ]
        }
      ],
      "source": [
        "t = int(input())\n",
        "if t<5:\n",
        "  print(\"Пожалуйста, закрой полностью парник - на улице холодно\")\n",
        "elif t <= 10:\n",
        "  print(\"Пожалуйста, прикрой парник - на улице прохладно\")\n",
        "else:\n",
        "  print(\"Пожалуйста, открой полностью парник - на улице тепло\")"
      ]
    },
    {
      "cell_type": "markdown",
      "source": [
        "## 6. Список любимых томатов.\n",
        "\n",
        "У вашей бабушки есть любимые сорта томатов, но не все из них она посадила в этом году. У вас есть словарь, где ключ - название сорта, а по значению лежит количество кустов, высаженных в этом году.\n",
        "\n",
        "Ваша задача - вывести список сортов, которые были высажены в этом году (если высажено 0 кустов, то этот сорт в этом году не сажался)."
      ],
      "metadata": {
        "id": "AoT449EwIoN0"
      }
    },
    {
      "cell_type": "code",
      "execution_count": null,
      "metadata": {
        "id": "r61uXx7PIpkJ",
        "colab": {
          "base_uri": "https://localhost:8080/"
        },
        "outputId": "66dc4264-2d43-4dc7-f50e-997b390d22f2"
      },
      "outputs": [
        {
          "output_type": "stream",
          "name": "stdout",
          "text": [
            "Бычье сердце\n",
            "Любаша\n",
            "Космонавт Волков\n",
            "Монеточка\n"
          ]
        }
      ],
      "source": [
        "tomatoes = {\"Бычье сердце\": 4, \"Любаша\": 1, \"Титаник\": 0, \"Космонавт Волков\": 7}\n",
        "tomatoes[\"Монеточка\"] = 5\n",
        "for i in tomatoes.keys():\n",
        "    if tomatoes[i]>0:\n",
        "      print(i)\n"
      ]
    },
    {
      "cell_type": "markdown",
      "source": [
        "## 7. Словари.\n",
        "\n",
        "Создайте словарь, где ключами будут числа от 0 до 20 включительно, а значения -\n",
        "1. -1, если значение ключа делится на 5\n",
        "2. 1 иначе\n",
        "\n",
        "\n",
        "<font color=\"#8000FF\"> Используйте comprehensions </font>"
      ],
      "metadata": {
        "id": "M7EBZSFGLiVy"
      }
    },
    {
      "cell_type": "code",
      "execution_count": null,
      "metadata": {
        "id": "2JxdQGZJIppV"
      },
      "outputs": [],
      "source": [
        "my_dict = {key: (-1 if key % 5 == 0 else 1) for key in range(21)}"
      ]
    },
    {
      "cell_type": "markdown",
      "source": [
        "## 8. Ох уж эти корейцы\n",
        "\n",
        "Вам дан список с возрастами людей в одной неизвестной корейской фирме. Вышел новый закон, который постановляет, что теперь возраст сотрудников считается не традиционным способом, а по факту рождения. Менеджер компании попросил вас перезаполнить базу данных, обновив возраст сотрудников по правилу:\n",
        "\n",
        "$age = (age + 1)$\n",
        "\n",
        " <font color=\"#8000FF\"> Используйте функцию `map`</font>"
      ],
      "metadata": {
        "id": "ZTrqV-ixUhcj"
      }
    },
    {
      "cell_type": "code",
      "source": [
        "import random\n",
        "ages = random.choices(list(range(20, 65)), k=100500)\n",
        "\n",
        "new_age = list(map(lambda x: x + 1,ages))"
      ],
      "metadata": {
        "id": "60H4Zi4eMSQp"
      },
      "execution_count": null,
      "outputs": []
    },
    {
      "cell_type": "markdown",
      "source": [
        "## 9. Ох уж эти корейцы - 2.0\n",
        "\n",
        "Условие такое же, как и в задаче 8, но теперь вам предстоит решить такую же задачу с использованием <font color=\"#8000FF\"> `list comprehensions` </font>"
      ],
      "metadata": {
        "id": "0wcUgWpqMls_"
      }
    },
    {
      "cell_type": "code",
      "execution_count": null,
      "metadata": {
        "id": "FyrL43m7Iptt"
      },
      "outputs": [],
      "source": [
        "new_age = [x+1 for x in ages]"
      ]
    },
    {
      "cell_type": "markdown",
      "source": [
        "## 10. Много разных строк.\n",
        "\n",
        "Напишите функцию` get_extended_string_info`, принимающую на вход строку, а на выход выдаёт **7 строк через запятую**, полученные из оригинальной соответствующим преобразованием:\n",
        "\n",
        "1. Самое длинное слово в строке\n",
        "2. Количество слов в строке\n",
        "3. Переворачивает каждое слово в строке задом наперёд\n",
        "4. Удаляет все цифры из строки\n",
        "5. Заменяет все буквы верхнего регистра на нижний, а нижнего регистра на верхний\n",
        "6. Проверяет, является ли строка палиндромом (без учета пробелов, регистра и пунктуации, те только буквы и цифры)\n",
        "7. Если строка не является палиндромом, то выводит первые 5 символов строки в обратном порядке\n",
        "\n",
        "Т.е.  первая строка - самое длинное слово в исходной строке, вторая строка - количество слов в исходной строке и.т.д."
      ],
      "metadata": {
        "id": "0nk0f2oSM-dx"
      }
    },
    {
      "cell_type": "code",
      "execution_count": null,
      "metadata": {
        "id": "qD-0OsRZIpw3",
        "colab": {
          "base_uri": "https://localhost:8080/"
        },
        "outputId": "da4fb26d-92a0-4519-9282-5164a78462ae"
      },
      "outputs": [
        {
          "output_type": "stream",
          "name": "stdout",
          "text": [
            "абоба, 1, абоба, абоба, АБОБА, Да, \n"
          ]
        }
      ],
      "source": [
        "def get_extended_string_info(s):\n",
        "    words = s.split()\n",
        "    longest_word = max(words, key=len) if words else \"\"\n",
        "\n",
        "    word_count = len(words)\n",
        "\n",
        "    reversed_words = \" \".join(word[::-1] for word in words)\n",
        "\n",
        "    no_digits = \"\".join(char for char in s if not char.isdigit())\n",
        "\n",
        "    swapped_case = s.swapcase()\n",
        "\n",
        "    clean_s = \"\".join(char.lower() for char in s if char.isalnum())\n",
        "    is_palindrome = \"Да\" if clean_s == clean_s[::-1] else \"Нет\"\n",
        "\n",
        "    reversed_first_five = s[:5][::-1] if is_palindrome == \"Нет\" else \"\"\n",
        "\n",
        "    return f\"{longest_word}, {word_count}, {reversed_words}, {no_digits}, {swapped_case}, {is_palindrome}, {reversed_first_five}\"\n",
        "\n",
        "#Тест\n",
        "test_string = \"абоба\"\n",
        "print(get_extended_string_info(test_string))\n"
      ]
    },
    {
      "cell_type": "markdown",
      "source": [
        "## 11. Турецкие сериалы.\n",
        "\n",
        "Из администрации школы вам поступили списки турецких студентов, сдававших экзамены по математике и физике в виде словаря \"имя\": tuple(оценка по физике, оценка по математике)\n",
        "\n",
        "Если оценка ниже трех - студент не сдал, если ниже четырех - не получает стипендию. Если хотябы один предмет не сдан, то это отчисление\n",
        "\n",
        "1. <font color=\"#8000FF\"> С помощью comprehensions </font> сформируйте списки студентов, кто сдал экзамены на проход/стипу. Подумайте, какие категории вам нужны\n",
        "\n",
        "2. Сформируйте списки на стипендию и на отчисление"
      ],
      "metadata": {
        "id": "DSlSqjt0N0-3"
      }
    },
    {
      "cell_type": "code",
      "source": [
        "exam_scores = {\n",
        "    \"Serkan Bolat\": (3, 4),\n",
        "    \"Burak Deniz\": (5, 3),\n",
        "    \"Ahmet Yildirim\": (2, 5),\n",
        "    \"Merve Kaya\": (4, 4),\n",
        "    \"Emre Demir\": (2, 2),\n",
        "    \"Zeynep Arslan\": (3, 3),\n",
        "    \"Mustafa Yilmaz\": (5, 4),\n",
        "    \"Elif Ozdemir\": (4, 3),\n",
        "    \"Canan Karaca\": (2, 4),\n",
        "    \"Yusuf Sahin\": (5, 5),\n",
        "    \"Selin Cengiz\": (3, 2),\n",
        "    \"Kerem Gunes\": (4, 5),\n",
        "    \"Duru Aydin\": (3, 4),\n",
        "    \"Omer Yilmaz\": (2, 3),\n",
        "    \"Esra Uysal\": (4, 4),\n",
        "    \"Halil Yalcin\": (3, 3),\n",
        "    \"Ayse Yildirim\": (5, 4),\n",
        "    \"Fatma Demir\": (2, 2),\n",
        "    \"Ali Gokce\": (4, 3),\n",
        "    \"Cemre Erdem\": (3, 5)\n",
        "}\n",
        "\n"
      ],
      "metadata": {
        "id": "1Zf73sEgOC43"
      },
      "execution_count": null,
      "outputs": []
    },
    {
      "cell_type": "code",
      "execution_count": null,
      "metadata": {
        "id": "faZRQH5pIpzu",
        "colab": {
          "base_uri": "https://localhost:8080/"
        },
        "outputId": "6af80526-32d4-4f76-ed5b-0451c41add64"
      },
      "outputs": [
        {
          "output_type": "stream",
          "name": "stdout",
          "text": [
            "expelled students: ['Ahmet Yildirim', 'Emre Demir', 'Canan Karaca', 'Selin Cengiz', 'Omer Yilmaz', 'Fatma Demir']\n",
            "students that passed the exams: ['Serkan Bolat', 'Burak Deniz', 'Merve Kaya', 'Zeynep Arslan', 'Mustafa Yilmaz', 'Elif Ozdemir', 'Yusuf Sahin', 'Kerem Gunes', 'Duru Aydin', 'Esra Uysal', 'Halil Yalcin', 'Ayse Yildirim', 'Ali Gokce', 'Cemre Erdem']\n",
            "students with scholarship: ['Merve Kaya', 'Mustafa Yilmaz', 'Yusuf Sahin', 'Kerem Gunes', 'Esra Uysal', 'Ayse Yildirim']\n"
          ]
        }
      ],
      "source": [
        "students_expelled = [student for student in exam_scores if exam_scores[student][0]<3 or exam_scores[student][1]<3]\n",
        "students_prohod = [student for student in exam_scores if exam_scores[student][0]>2 and exam_scores[student][1]>2]\n",
        "students_scholarship = [student for student in exam_scores if exam_scores[student][0]>3 and exam_scores[student][1]>3]\n",
        "print('expelled students:', students_expelled)\n",
        "print('students that passed the exams:', students_prohod)\n",
        "print('students with scholarship:', students_scholarship)"
      ]
    },
    {
      "cell_type": "markdown",
      "source": [
        "## 12. Я у мамы разработчик.\n",
        "\n",
        "Возьмите функцию из задачи 10 и переиспользуйте её, чтобы получить количество слов в строке. Ненужные переменные запихните в `_` и `*_`"
      ],
      "metadata": {
        "id": "vfhNtLvpOLYn"
      }
    },
    {
      "cell_type": "code",
      "execution_count": null,
      "metadata": {
        "id": "simmTOFbIp2V",
        "colab": {
          "base_uri": "https://localhost:8080/",
          "height": 35
        },
        "outputId": "6df5a174-6da1-4375-8c8e-85a5a373c0ec"
      },
      "outputs": [
        {
          "output_type": "execute_result",
          "data": {
            "text/plain": [
              "'4'"
            ],
            "application/vnd.google.colaboratory.intrinsic+json": {
              "type": "string"
            }
          },
          "metadata": {},
          "execution_count": 10
        }
      ],
      "source": [
        "test_string = \"Я у мамы разработчик!\"\n",
        "_, word_count, *_ = get_extended_string_info(test_string).split(\", \")\n",
        "word_count"
      ]
    },
    {
      "cell_type": "markdown",
      "source": [
        "## 13. Не перевелись ещё богатыри на Руси! - часть 1.\n",
        "\n",
        "Вам дана очень длинная строка с фамилиями, отчествами и именами потенциальных богатырей.\n",
        "\n",
        "Ваша задача - <font color=\"#8000FF\">используя цикл for</font> получить список имён из неё, после чего вывести все **уникальные** имена."
      ],
      "metadata": {
        "id": "uFJ9mDlv1q9-"
      }
    },
    {
      "cell_type": "code",
      "execution_count": null,
      "metadata": {
        "id": "w8gXe9q-oElJ"
      },
      "outputs": [],
      "source": [
        "slavic_names = '''\n",
        "Ратибор Васелинович Чеславов\n",
        "Веселин Истиславович Гремиславовский\n",
        "Хотимир Владимирович Жирославовский\n",
        "Бронислав Властимирович Бранимировский\n",
        "Васелин Граниславович Богданов\n",
        "Истислав Мутимирович Станиславов\n",
        "Вячеслав Велиградович Белославов\n",
        "Ярополк Хотимирович Станиславовский\n",
        "Тихомир Судиславович Васелинов\n",
        "Гранислав Истиславович Жирославов\n",
        "Белослав Мечиславович Мирославовский\n",
        "Властимир Богданович Гремиславов\n",
        "Гостевид Пересветович Мстиславов\n",
        "Бранимир Горисветович Велимиров\n",
        "Веселин Ратиборович Станиславов\n",
        "Вячеслав Истиславович Драгомыслов\n",
        "Васелин Велимирович Венцеславов\n",
        "Добромир Богославович Судиславов\n",
        "Тихомир Святославович Васелинов\n",
        "Вышеслав Граниславович Доброславов\n",
        "Драгомысл Ярославович Вышеславов\n",
        "Мечислав Гостевидович Станиславовский\n",
        "Градислав Веселинович Драгомыслов\n",
        "Доброслав Велимирович Святополков\n",
        "Пересвет Хотимирович Тихомиров\n",
        "Святослав Тихомирович Граниславов\n",
        "Жирослав Гремиславович Богославов\n",
        "Гранислав Перемыслович Васелинов\n",
        "Гостевид Хотимирович Ратиборов\n",
        "Гостевид Мутимирович Томиславов\n",
        "Тихомир Владимирович Веселинов\n",
        "Мстислав Хотимирович Истиславовский\n",
        "Чеслав Святополкович Веселинов\n",
        "Владимир Истиславович Властимиров\n",
        "Добромир Святополкович Доброжиров\n",
        "Томислав Истиславович Судиславовский\n",
        "Веселин Хотимирович Мстиславов\n",
        "Владимир Яромирович Судиславов\n",
        "Добромир Судиславович Жирославов\n",
        "Вышеслав Милорадович Белославовский\n",
        "Судислав Властимирович Бранимиров\n",
        "Перемысл Жирославович Бранимиров\n",
        "Драгомир Добромирович Мирославов\n",
        "Вячеслав Доброславович Судиславов\n",
        "Хотимир Перемыслович Богославов\n",
        "Веселин Мстиславович Ясномыслов\n",
        "Яромир Велиградович Истиславов\n",
        "Яромир Граниславович Веселиновский\n",
        "Ярослав Жирославович Святополков\n",
        "Горисвет Ярополкович Станиславовский\n",
        "'''"
      ]
    },
    {
      "cell_type": "code",
      "source": [
        "unique_names = set()\n",
        "for line in slavic_names.strip().split(\"\\n\"):\n",
        "    words = line.split()\n",
        "    if words:\n",
        "        unique_names.add(words[0])\n",
        "for name in unique_names:\n",
        "    print(name)"
      ],
      "metadata": {
        "colab": {
          "base_uri": "https://localhost:8080/"
        },
        "id": "vKKDQD2xilLJ",
        "outputId": "fd36d561-b5ca-44bd-9508-106cfcebb33d"
      },
      "execution_count": null,
      "outputs": [
        {
          "output_type": "stream",
          "name": "stdout",
          "text": [
            "Васелин\n",
            "Истислав\n",
            "Ярослав\n",
            "Добромир\n",
            "Гостевид\n",
            "Яромир\n",
            "Вячеслав\n",
            "Пересвет\n",
            "Белослав\n",
            "Вышеслав\n",
            "Доброслав\n",
            "Томислав\n",
            "Бронислав\n",
            "Градислав\n",
            "Мстислав\n",
            "Драгомысл\n",
            "Перемысл\n",
            "Хотимир\n",
            "Веселин\n",
            "Горисвет\n",
            "Тихомир\n",
            "Ярополк\n",
            "Жирослав\n",
            "Ратибор\n",
            "Бранимир\n",
            "Судислав\n",
            "Святослав\n",
            "Властимир\n",
            "Владимир\n",
            "Чеслав\n",
            "Мечислав\n",
            "Драгомир\n",
            "Гранислав\n"
          ]
        }
      ]
    },
    {
      "cell_type": "markdown",
      "source": [
        "## 14. Не перевелись ещё богатыри на Руси! - часть 2.\n",
        "\n",
        "Вам дана очень длинная строка с фамилиями, отчествами и именами потенциальных богатырей.\n",
        "\n",
        "Ваша задача - <font color=\"#8000FF\">при помощи list comprehensions</font> получить список имён из неё, после чего вывести все **уникальные** имена."
      ],
      "metadata": {
        "id": "fBDeNsjooWXD"
      }
    },
    {
      "cell_type": "code",
      "source": [
        "unique_names = set({line.split()[0] for line in slavic_names.strip().split(\"\\n\") if line})\n",
        "unique_names"
      ],
      "metadata": {
        "id": "55SRUaKLrdyR",
        "colab": {
          "base_uri": "https://localhost:8080/"
        },
        "outputId": "e8e7f44f-ac30-4e82-99ab-e1f2da6b2447"
      },
      "execution_count": null,
      "outputs": [
        {
          "output_type": "execute_result",
          "data": {
            "text/plain": [
              "{'Белослав',\n",
              " 'Бранимир',\n",
              " 'Бронислав',\n",
              " 'Васелин',\n",
              " 'Веселин',\n",
              " 'Владимир',\n",
              " 'Властимир',\n",
              " 'Вышеслав',\n",
              " 'Вячеслав',\n",
              " 'Горисвет',\n",
              " 'Гостевид',\n",
              " 'Градислав',\n",
              " 'Гранислав',\n",
              " 'Добромир',\n",
              " 'Доброслав',\n",
              " 'Драгомир',\n",
              " 'Драгомысл',\n",
              " 'Жирослав',\n",
              " 'Истислав',\n",
              " 'Мечислав',\n",
              " 'Мстислав',\n",
              " 'Перемысл',\n",
              " 'Пересвет',\n",
              " 'Ратибор',\n",
              " 'Святослав',\n",
              " 'Судислав',\n",
              " 'Тихомир',\n",
              " 'Томислав',\n",
              " 'Хотимир',\n",
              " 'Чеслав',\n",
              " 'Яромир',\n",
              " 'Ярополк',\n",
              " 'Ярослав'}"
            ]
          },
          "metadata": {},
          "execution_count": 12
        }
      ]
    },
    {
      "cell_type": "markdown",
      "source": [
        "## 15. Генератор богатырских имён.\n",
        "\n",
        "\n",
        "Современные родители любят имена с духом старины. Проанализируйте список имён (именно имён, а не отчеств/фамилий) из задачи 13. Выделите (чисто визуально) 6 возможных начал имён и 6 возможных концов имён (например, Яро - начало, Полк - конец, а вместе имя - Ярополк) и напишите функцию `generate_random_old_slavic_name`, которая при помощи random.choice выдаёт случайное имя.\n",
        "\n",
        "При помощи цикла вызовите функцию 10 раз и выведите, что получилось."
      ],
      "metadata": {
        "id": "QLVpQyJnK5Bc"
      }
    },
    {
      "cell_type": "code",
      "source": [
        "import random\n",
        "def generate_random_old_slavic_name():\n",
        "  first_name_part = ['Драго','Мсти','Добро', 'Яро', 'Жир', 'Суд']\n",
        "  second_name_part = ['лод', 'слав', 'бор','свет','полк', 'лин']\n",
        "  return random.choice(first_name_part) + random.choice(second_name_part)\n",
        "for _ in range(10):\n",
        "    print(generate_random_old_slavic_name())\n",
        "\n"
      ],
      "metadata": {
        "id": "0burcuqjMQ30",
        "colab": {
          "base_uri": "https://localhost:8080/"
        },
        "outputId": "10b743e4-eb93-45bd-e253-a50a9877b5fe"
      },
      "execution_count": null,
      "outputs": [
        {
          "output_type": "stream",
          "name": "stdout",
          "text": [
            "Драгополк\n",
            "Жирбор\n",
            "Судсвет\n",
            "Драгополк\n",
            "Жирлин\n",
            "Ярослав\n",
            "Судполк\n",
            "Жирлин\n",
            "Яросвет\n",
            "Доброслав\n"
          ]
        }
      ]
    },
    {
      "cell_type": "markdown",
      "source": [
        "## 16. Один день, еще один, да один день - часть 1.\n",
        "\n",
        "Перед вами список некоторых князей Киевских и годы их правления.\n",
        "\n",
        "Ваша задача - <font color=\"#8000FF\">при помощи лямбда-функции и функции sort</font> отсортировать их в порядке возрастания количества лет, которых они провели на престоле."
      ],
      "metadata": {
        "id": "Td8QhrRJ_wdO"
      }
    },
    {
      "cell_type": "code",
      "source": [
        "rulers = [{\"name\": \"Олег Вещий\", \"year_start\": 882, \"year_end\": 912},\n",
        "          {\"name\": \"Игорь Рюрикович\", \"year_start\": 912, \"year_end\": 945},\n",
        "          {\"name\": \"Ольга\", \"year_start\": 945, \"year_end\": 960},\n",
        "          {\"name\": \"Святослав Игоревич\", \"year_start\": 945, \"year_end\": 972},\n",
        "          {\"name\": \"Ярополк Святославич\", \"year_start\": 972, \"year_end\": 978},\n",
        "          {\"name\": \"Владимир Святославич\", \"year_start\": 978, \"year_end\": 1015}]"
      ],
      "metadata": {
        "id": "oxgCN37HJEHk"
      },
      "execution_count": null,
      "outputs": []
    },
    {
      "cell_type": "code",
      "source": [
        "sorted_rulers = sorted(rulers, key=lambda x: x['year_end'] - x['year_start'])\n",
        "sorted_rulers"
      ],
      "metadata": {
        "id": "WpbJzN82KUki",
        "colab": {
          "base_uri": "https://localhost:8080/"
        },
        "outputId": "a18d29a4-9dd5-4d95-dd0b-cbe6b9b044de"
      },
      "execution_count": null,
      "outputs": [
        {
          "output_type": "execute_result",
          "data": {
            "text/plain": [
              "[{'name': 'Ярополк Святославич', 'year_start': 972, 'year_end': 978},\n",
              " {'name': 'Ольга', 'year_start': 945, 'year_end': 960},\n",
              " {'name': 'Святослав Игоревич', 'year_start': 945, 'year_end': 972},\n",
              " {'name': 'Олег Вещий', 'year_start': 882, 'year_end': 912},\n",
              " {'name': 'Игорь Рюрикович', 'year_start': 912, 'year_end': 945},\n",
              " {'name': 'Владимир Святославич', 'year_start': 978, 'year_end': 1015}]"
            ]
          },
          "metadata": {},
          "execution_count": 61
        }
      ]
    },
    {
      "cell_type": "markdown",
      "source": [
        "## 17. Один день, ещё один, да один день - часть 2.\n",
        "\n",
        "Перед вами список некоторых князей Киевских и годы их правления.\n",
        "\n",
        "Ваша задача - <font color=\"#8000FF\">при помощи лямбда-функции и функции filter</font> выбрать из них тех, кто правил дольше 17 лет или является Ольгой."
      ],
      "metadata": {
        "id": "VP2Nn03BKWOo"
      }
    },
    {
      "cell_type": "code",
      "source": [
        "filtered_rulers =  list(filter(lambda ruler: ruler['name'] == 'Ольга' or ruler['year_end'] - ruler['year_start']>17, rulers))\n",
        "filtered_rulers"
      ],
      "metadata": {
        "id": "hNkpXtt1KkDE",
        "colab": {
          "base_uri": "https://localhost:8080/"
        },
        "outputId": "361c55b8-804f-4e3a-94d9-c95addb75349"
      },
      "execution_count": null,
      "outputs": [
        {
          "output_type": "execute_result",
          "data": {
            "text/plain": [
              "[{'name': 'Олег Вещий', 'year_start': 882, 'year_end': 912},\n",
              " {'name': 'Игорь Рюрикович', 'year_start': 912, 'year_end': 945},\n",
              " {'name': 'Ольга', 'year_start': 945, 'year_end': 960},\n",
              " {'name': 'Святослав Игоревич', 'year_start': 945, 'year_end': 972},\n",
              " {'name': 'Владимир Святославич', 'year_start': 978, 'year_end': 1015}]"
            ]
          },
          "metadata": {},
          "execution_count": 15
        }
      ]
    },
    {
      "cell_type": "markdown",
      "source": [
        "## 18. Кому на Руси жить хорошо - часть 1.\n",
        "\n",
        "*В Древней Руси больше всего боялись тех, кто отсидел, потому что тогда сажали на кол.*\n",
        "\n",
        "Перед вами два словаря - словарь `paid_money` - количество золота, сколько этот боярин заплатил в казну и словарь `real_money` - количество золота, которое реально заработал боярин.\n",
        "\n",
        "<font color=\"#8000FF\">При помощи цикла for</font> выведи список имён бояр, которые заплатили менее десятой части от своих настоящих доходов - это те бояре, которых в следующем месяце придётся посадить на кол."
      ],
      "metadata": {
        "id": "uQmzqitT9zCx"
      }
    },
    {
      "cell_type": "code",
      "source": [
        "paid_money = {\"Козьма Григорьевич\": 70,\n",
        "              \"Аврам Стефанович\": 101,\n",
        "              \"Захарий Григорьевич\": 15,\n",
        "              \"Онцифор Лукинич\": 208}\n",
        "\n",
        "real_money = {\"Козьма Григорьевич\": 1000,\n",
        "              \"Аврам Стефанович\": 900,\n",
        "              \"Захарий Григорьевич\": 400,\n",
        "              \"Онцифор Лукинич\": 2000}"
      ],
      "metadata": {
        "id": "x_QHMKex-DM-"
      },
      "execution_count": null,
      "outputs": []
    },
    {
      "cell_type": "code",
      "source": [
        "for i in paid_money:\n",
        "  if paid_money[i]/real_money[i]<0.1:\n",
        "    print(i,'- будет посажен на кол')\n"
      ],
      "metadata": {
        "id": "_rXLJj8M-BlC",
        "colab": {
          "base_uri": "https://localhost:8080/"
        },
        "outputId": "62cc7009-c085-4dbb-8939-b65088688814"
      },
      "execution_count": null,
      "outputs": [
        {
          "output_type": "stream",
          "name": "stdout",
          "text": [
            "Козьма Григорьевич - будет посажен на кол\n",
            "Захарий Григорьевич - будет посажен на кол\n"
          ]
        }
      ]
    },
    {
      "cell_type": "markdown",
      "source": [
        "## 19. Кому на Руси жить хорошо - часть 2.\n",
        "\n",
        "\n",
        "Перед вами два словаря - словарь `paid_money` - количество золота, сколько этот боярин заплатил в казну и словарь `real_money` - количество золота, которое реально заработал боярин.\n",
        "\n",
        "<font color=\"#8000FF\">При помощи list comprehension и условия</font> выведи список имён бояр, которые заплатили менее десятой части от своих настоящих доходов - это те бояре, которых в следующем месяце придётся посадить на кол."
      ],
      "metadata": {
        "id": "TAhHkr-mTY9d"
      }
    },
    {
      "cell_type": "code",
      "source": [
        "na_kol = [i for i in paid_money if paid_money[i] / real_money[i] < 0.1]\n",
        "print(na_kol)\n"
      ],
      "metadata": {
        "id": "ORqNSSsGl12r",
        "colab": {
          "base_uri": "https://localhost:8080/"
        },
        "outputId": "6930879c-e1bf-4042-d758-9b5aebe532ee"
      },
      "execution_count": null,
      "outputs": [
        {
          "output_type": "stream",
          "name": "stdout",
          "text": [
            "['Козьма Григорьевич', 'Захарий Григорьевич']\n"
          ]
        }
      ]
    },
    {
      "cell_type": "markdown",
      "source": [
        "## 20. Здесь русский дух, здесь Русью пахнет... (2 балла)\n",
        "\n",
        "Вы задались задачей сделать самые русские духи. Для этого вы собрали несколько пробных ароматов из разных нот (ноты между ароматами могут повторяться) и провели опрос среди прохожих, спрашивая, насколько Русью пахнет данный аромат по шкале от 1 до 5 включительно.\n",
        "\n",
        "Перед вами часть ароматов и часть голосов - ваша задача:\n",
        "\n",
        "1. На основе ароматов определить множество **уникальных** нот в ароматах\n",
        "2. Определить среднее значение голосов за каждую **ноту**\n",
        "3. Вывести топ-3 ноты по среднему значению голосов - это и будут наши самые русские духи."
      ],
      "metadata": {
        "id": "_HJtKjsu2ABU"
      }
    },
    {
      "cell_type": "code",
      "source": [
        "fragrances = [{\"id\": 15, \"name\": \"Русалка\", \"notes\": \"кувшинки, вода, мох, мускус\"},\n",
        "              {\"id\": 16, \"name\": \"Жар-птица\", \"notes\": \"молоко, сандал, слива, перец\"},\n",
        "              {\"id\": 17, \"name\": \"Река-Смородина\", \"notes\": \"смородина, вода, молоко, мед\"},\n",
        "              {\"id\": 18, \"name\": \"Царевна-Лягушка\", \"notes\": \"можжевельник, вода, древесина, перец, кувшинки\"},\n",
        "              {\"id\": 19, \"name\": \"Василиса-Премудрая\", \"notes\": \"мед, яблоко, ветивер, мускус\"}]\n",
        "\n",
        "votes = [{'id': 2353, 'fragrance_id': 19, 'vote_res': 2}, {'id': 2354, 'fragrance_id': 15, 'vote_res': 2}, {'id': 2355, 'fragrance_id': 18, 'vote_res': 1}, {'id': 2356, 'fragrance_id': 19, 'vote_res': 4}, {'id': 2357, 'fragrance_id': 16, 'vote_res': 4}, {'id': 2358, 'fragrance_id': 16, 'vote_res': 1}, {'id': 2359, 'fragrance_id': 18, 'vote_res': 1}, {'id': 2360, 'fragrance_id': 15, 'vote_res': 5}, {'id': 2361, 'fragrance_id': 18, 'vote_res': 5}, {'id': 2362, 'fragrance_id': 16, 'vote_res': 4}, {'id': 2363, 'fragrance_id': 19, 'vote_res': 2}, {'id': 2364, 'fragrance_id': 17, 'vote_res': 1}, {'id': 2365, 'fragrance_id': 15, 'vote_res': 1}, {'id': 2366, 'fragrance_id': 18, 'vote_res': 5}, {'id': 2367, 'fragrance_id': 19, 'vote_res': 3}, {'id': 2368, 'fragrance_id': 17, 'vote_res': 1}, {'id': 2369, 'fragrance_id': 18, 'vote_res': 1}, {'id': 2370, 'fragrance_id': 18, 'vote_res': 3}, {'id': 2371, 'fragrance_id': 15, 'vote_res': 2}, {'id': 2372, 'fragrance_id': 17, 'vote_res': 2}, {'id': 2373, 'fragrance_id': 16, 'vote_res': 2}, {'id': 2374, 'fragrance_id': 18, 'vote_res': 3}, {'id': 2375, 'fragrance_id': 19, 'vote_res': 1}, {'id': 2376, 'fragrance_id': 16, 'vote_res': 1}, {'id': 2377, 'fragrance_id': 16, 'vote_res': 2}, {'id': 2378, 'fragrance_id': 16, 'vote_res': 3}, {'id': 2379, 'fragrance_id': 18, 'vote_res': 2}, {'id': 2380, 'fragrance_id': 18, 'vote_res': 5}, {'id': 2381, 'fragrance_id': 15, 'vote_res': 3}, {'id': 2382, 'fragrance_id': 19, 'vote_res': 5}, {'id': 2383, 'fragrance_id': 17, 'vote_res': 4}, {'id': 2384, 'fragrance_id': 18, 'vote_res': 5}, {'id': 2385, 'fragrance_id': 19, 'vote_res': 3}, {'id': 2386, 'fragrance_id': 17, 'vote_res': 3}, {'id': 2387, 'fragrance_id': 17, 'vote_res': 5}, {'id': 2388, 'fragrance_id': 18, 'vote_res': 1}, {'id': 2389, 'fragrance_id': 19, 'vote_res': 1}, {'id': 2390, 'fragrance_id': 15, 'vote_res': 1}, {'id': 2391, 'fragrance_id': 19, 'vote_res': 5}, {'id': 2392, 'fragrance_id': 15, 'vote_res': 2}, {'id': 2393, 'fragrance_id': 15, 'vote_res': 3}, {'id': 2394, 'fragrance_id': 17, 'vote_res': 5}, {'id': 2395, 'fragrance_id': 15, 'vote_res': 5}, {'id': 2396, 'fragrance_id': 17, 'vote_res': 2}, {'id': 2397, 'fragrance_id': 15, 'vote_res': 5}, {'id': 2398, 'fragrance_id': 17, 'vote_res': 5}, {'id': 2399, 'fragrance_id': 18, 'vote_res': 4}, {'id': 2400, 'fragrance_id': 16, 'vote_res': 1}, {'id': 2401, 'fragrance_id': 17, 'vote_res': 5}, {'id': 2402, 'fragrance_id': 16, 'vote_res': 3}]"
      ],
      "metadata": {
        "id": "zvkU2KEy2WH8"
      },
      "execution_count": null,
      "outputs": []
    },
    {
      "cell_type": "code",
      "source": [
        "fragrance_notes = {f[\"id\"]: f[\"notes\"].split(\", \") for f in fragrances}\n",
        "note_votes = {}\n",
        "for vote in votes:\n",
        "    fragrance_id = vote['fragrance_id']\n",
        "    vote_value = vote['vote_res']\n",
        "\n",
        "    if fragrance_id in fragrance_notes:\n",
        "        for note in fragrance_notes[fragrance_id]:\n",
        "            if note not in note_votes:\n",
        "                note_votes[note] = []\n",
        "            note_votes[note].append(vote_value)\n",
        "\n",
        "note_avg_scores = {note: sum(vote_list) / len(vote_list) for note, vote_list in note_votes.items()}\n",
        "\n",
        "top_notes = sorted(note_avg_scores.items(), key=lambda x: x[1], reverse=True)[:3]\n",
        "\n",
        "print(\"Топ-3 самых русских нот в духах:\")\n",
        "for note, score in top_notes:\n",
        "    print(f\"{note}: {score:.2f}\")\n",
        "\n"
      ],
      "metadata": {
        "id": "vG9JTNLM4eSE",
        "colab": {
          "base_uri": "https://localhost:8080/"
        },
        "outputId": "567876ef-b186-4a1c-f7e5-2e1be321ebaa"
      },
      "execution_count": null,
      "outputs": [
        {
          "output_type": "stream",
          "name": "stdout",
          "text": [
            "Топ-3 самых русских нот в духах:\n",
            "смородина: 3.30\n",
            "мед: 3.11\n",
            "вода: 3.06\n"
          ]
        }
      ]
    }
  ]
}